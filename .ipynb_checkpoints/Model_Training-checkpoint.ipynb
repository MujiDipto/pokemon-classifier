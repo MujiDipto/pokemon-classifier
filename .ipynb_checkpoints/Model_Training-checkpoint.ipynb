{
 "cells": [
  {
   "cell_type": "code",
   "execution_count": null,
   "id": "a37ea7e7",
   "metadata": {},
   "outputs": [],
   "source": [
    "import numpy as np\n",
    "import tensorflow as tf\n",
    "from tensorflow import keras\n",
    "from tensorflow.keras.layers import Dense, Activation\n",
    "from tensorflow.keras.optimizers import Adam\n",
    "from tensorflow.keras.metrics import categorical_crossentropy\n",
    "from tensorflow.keras.preprocessing.image import ImageDataGenerator\n",
    "from tensorflow.keras.preprocessing import image\n",
    "from tensorflow.keras.models import Model\n",
    "from tensorflow.keras.applications import imagenet_utils\n",
    "from sklearn.metrics import confusion_matrix\n",
    "import itertools\n",
    "import os\n",
    "import shutil\n",
    "import random\n",
    "import matplotlib.pyplot as plt\n",
    "%matplotlib inline"
   ]
  },
  {
   "cell_type": "code",
   "execution_count": null,
   "id": "2e5c9117",
   "metadata": {},
   "outputs": [],
   "source": [
    "os.chdir('PokemonData-with-greyscale')"
   ]
  },
  {
   "cell_type": "code",
   "execution_count": null,
   "id": "ebaa92be",
   "metadata": {},
   "outputs": [],
   "source": [
    "folder_list = os.listdir()\n",
    "folder_list"
   ]
  },
  {
   "cell_type": "code",
   "execution_count": null,
   "id": "37244fe6",
   "metadata": {},
   "outputs": [],
   "source": [
    "if os.path.isdir('train/Abra/') is False: \n",
    "    os.mkdir('train')\n",
    "    os.mkdir('validation')\n",
    "    \n",
    "    for folder in folder_list:\n",
    "        shutil.move(f'{folder}', 'train')\n",
    "        os.mkdir(f'validation/{folder}')\n",
    "    \n",
    "        validation_samples = random.sample(os.listdir(f'train/{folder}'), 10)\n",
    "        for file_names in validation_samples:\n",
    "            shutil.move(f'train/{folder}/{file_names}', f'validation/{folder}')\n",
    "            \n",
    "            \n",
    "os.chdir('../..')            "
   ]
  },
  {
   "cell_type": "code",
   "execution_count": null,
   "id": "36ac04ce",
   "metadata": {},
   "outputs": [],
   "source": [
    "# function to show images, taken from tensorflows website\n",
    "\n",
    "def plotImages(images_arr):\n",
    "    fig, axes = plt.subplots(1, 10, figsize=(20,20))\n",
    "    axes = axes.flatten()\n",
    "    for img, ax in zip( images_arr, axes):\n",
    "        ax.imshow(img)\n",
    "        ax.axis('off')\n",
    "    plt.tight_layout()\n",
    "    plt.show()"
   ]
  },
  {
   "cell_type": "code",
   "execution_count": null,
   "id": "9b58ef8a",
   "metadata": {},
   "outputs": [],
   "source": [
    "os.chdir('pokemon-classifier')"
   ]
  },
  {
   "cell_type": "code",
   "execution_count": null,
   "id": "426e1cd1",
   "metadata": {},
   "outputs": [],
   "source": [
    "folder_list = os.listdir()\n",
    "folder_list"
   ]
  },
  {
   "cell_type": "code",
   "execution_count": null,
   "id": "0010cc5e",
   "metadata": {},
   "outputs": [],
   "source": [
    "os.chdir('PokemonData-with-greyscale')\n",
    "folder_list = os.listdir()\n",
    "folder_list"
   ]
  },
  {
   "cell_type": "code",
   "execution_count": null,
   "id": "9d9b8aa6",
   "metadata": {},
   "outputs": [],
   "source": [
    "os.chdir('train')\n",
    "folder_list = os.listdir()\n",
    "folder_list"
   ]
  },
  {
   "cell_type": "code",
   "execution_count": null,
   "id": "81e84e9d",
   "metadata": {},
   "outputs": [],
   "source": [
    "pokemon_folders = os.listdir()\n",
    "pokemon_folders"
   ]
  },
  {
   "cell_type": "code",
   "execution_count": null,
   "id": "48554cf5",
   "metadata": {},
   "outputs": [],
   "source": [
    "from tensorflow.keras.preprocessing.image import ImageDataGenerator, array_to_img,img_to_array, load_img\n",
    "datagen = ImageDataGenerator(rotation_range=40,\n",
    "                            width_shift_range=0.2,\n",
    "                            height_shift_range=0.2,\n",
    "                            shear_range=0.2,\n",
    "                            zoom_range=0.2,\n",
    "                            horizontal_flip=True,\n",
    "                            fill_mode='nearest',\n",
    "                            channel_shift_range=100\n",
    "                            )    \n"
   ]
  },
  {
   "cell_type": "code",
   "execution_count": null,
   "id": "d90dec12",
   "metadata": {},
   "outputs": [],
   "source": [
    "import re\n",
    "augmented = False\n",
    "\n",
    "images = os.listdir(\"Abra\")\n",
    "aug_images =  [i for i in images if re.search(\"^aug-image-\", i)]\n",
    "\n",
    "if len(aug_images) > 0:   \n",
    "    augmented = True\n",
    "    "
   ]
  },
  {
   "cell_type": "code",
   "execution_count": null,
   "id": "43dc8a39",
   "metadata": {},
   "outputs": [],
   "source": [
    "if not augmented:\n",
    "    for folder in pokemon_folders:\n",
    "        os.chdir(folder)\n",
    "        while(True):\n",
    "            chosen_image = random.choice(os.listdir())\n",
    "            if not chosen_image.startswith(\"gs\") and chosen_image.endswith('.jpg'):\n",
    "                break\n",
    "\n",
    "        print(f'{folder}: {chosen_image}')\n",
    "        current_dir = os.getcwd()\n",
    "        img = load_img(chosen_image)\n",
    "        x=img_to_array(img)\n",
    "        x=x.reshape((1,) + x.shape)\n",
    "\n",
    "        i=0\n",
    "        for batch in datagen.flow(x, batch_size=1, save_to_dir=current_dir, \n",
    "                                  save_prefix='aug-image-', save_format='jpeg'):\n",
    "            i +=1\n",
    "            if i>=10:\n",
    "                break\n",
    "\n",
    "\n",
    "        os.chdir('../')       \n",
    "\n",
    "    "
   ]
  },
  {
   "cell_type": "code",
   "execution_count": null,
   "id": "e7f8c6d3",
   "metadata": {},
   "outputs": [],
   "source": [
    "os.chdir('../../')\n",
    "print(os.getcwd())\n",
    "train_path = 'PokemonData-with-greyscale/train'\n",
    "valid_path = 'PokemonData-with-greyscale/validation'\n",
    "\n",
    "train_batches = ImageDataGenerator(preprocessing_function=tf.keras.applications.mobilenet.preprocess_input).flow_from_directory(\n",
    "    directory=train_path, target_size=(224,224), batch_size=10)\n",
    "valid_batches = ImageDataGenerator(preprocessing_function=tf.keras.applications.mobilenet.preprocess_input).flow_from_directory(\n",
    "    directory=valid_path, target_size=(224,224), batch_size=10)\n"
   ]
  },
  {
   "cell_type": "code",
   "execution_count": null,
   "id": "13c5e8d6",
   "metadata": {},
   "outputs": [],
   "source": [
    "mobile = tf.keras.applications.mobilenet.MobileNet()\n",
    "mobile.summary()"
   ]
  },
  {
   "cell_type": "code",
   "execution_count": null,
   "id": "d607f3d4",
   "metadata": {},
   "outputs": [],
   "source": [
    "from tensorflow.keras import layers\n",
    "from tensorflow.keras import regularizers\n",
    "\n",
    "x = mobile.layers[-6].output\n",
    "x = Dense(units=512, kernel_regularizer='l2')(x)\n",
    "output = Dense(units=150, activation='softmax')(x)\n",
    "model = Model(inputs=mobile.input, outputs=output)"
   ]
  },
  {
   "cell_type": "code",
   "execution_count": null,
   "id": "302d44c7",
   "metadata": {},
   "outputs": [],
   "source": [
    "for layer in model.layers[:-24]:\n",
    "    layer.trainable = False"
   ]
  },
  {
   "cell_type": "code",
   "execution_count": null,
   "id": "a2c97310",
   "metadata": {},
   "outputs": [],
   "source": [
    "# x = mobile.layers[-6].output\n",
    "# output = Dense(units=150, activation='softmax')(x)\n",
    "# model = Model(inputs=mobile.input, outputs=output)"
   ]
  },
  {
   "cell_type": "code",
   "execution_count": null,
   "id": "35d51953",
   "metadata": {},
   "outputs": [],
   "source": [
    "# for layer in model.layers[:-23]:\n",
    "#     layer.trainable = False"
   ]
  },
  {
   "cell_type": "code",
   "execution_count": null,
   "id": "68ce360c",
   "metadata": {},
   "outputs": [],
   "source": [
    "model.summary()"
   ]
  },
  {
   "cell_type": "code",
   "execution_count": null,
   "id": "7f8c1e2d",
   "metadata": {},
   "outputs": [],
   "source": [
    "print(model.layers[-2].name)\n",
    "print(model.layers[-3].name)"
   ]
  },
  {
   "cell_type": "code",
   "execution_count": null,
   "id": "e27fd687",
   "metadata": {},
   "outputs": [],
   "source": [
    "# loop through layers, add Dropout after layers 'fc1' and 'fc2'\n",
    "from tensorflow.keras.layers import Dropout\n",
    "from tensorflow.keras.models import Sequential\n",
    "\n",
    "updated_model = Sequential()\n",
    "for layer in model.layers:\n",
    "    updated_model.add(layer)\n",
    "    if layer.name in ['dense','global_average_pooling2d']:\n",
    "        if layer.name == 'dense':\n",
    "            updated_model.add(Dropout(.65))\n",
    "        else:\n",
    "            updated_model.add(Dropout(.85))\n",
    "\n",
    "model = updated_model\n",
    "\n",
    "# check structure\n",
    "model.summary()"
   ]
  },
  {
   "cell_type": "code",
   "execution_count": null,
   "id": "fc19d48d",
   "metadata": {},
   "outputs": [],
   "source": [
    "# # loop through layers, add Dropout after layers 'fc1' and 'fc2'\n",
    "# from tensorflow.keras.layers import Dropout\n",
    "# from tensorflow.keras.models import Sequential\n",
    "\n",
    "# updated_model = Sequential()\n",
    "# for layer in model.layers:\n",
    "#     updated_model.add(layer)\n",
    "#     if layer.name in ['dense','global_average_pooling2d']:\n",
    "#         updated_model.add(Dropout(.4))\n",
    "\n",
    "# model = updated_model\n",
    "\n",
    "# # check structure\n",
    "# model.summary()"
   ]
  },
  {
   "cell_type": "code",
   "execution_count": null,
   "id": "dc8c70d1",
   "metadata": {},
   "outputs": [],
   "source": [
    "model.compile(optimizer=Adam(lr=0.00001), loss='categorical_crossentropy', metrics=['accuracy'])"
   ]
  },
  {
   "cell_type": "code",
   "execution_count": null,
   "id": "06e823a2",
   "metadata": {},
   "outputs": [],
   "source": [
    "model.fit(x=train_batches,\n",
    "            steps_per_epoch=len(train_batches),\n",
    "            validation_data=valid_batches,\n",
    "            validation_steps=len(valid_batches),\n",
    "            epochs=120,\n",
    "            verbose=2\n",
    ")"
   ]
  },
  {
   "cell_type": "code",
   "execution_count": null,
   "id": "fb7344a6",
   "metadata": {},
   "outputs": [],
   "source": [
    "model.save('pokemon_classifier_dropout=65,85_lr=0.00001.h5')"
   ]
  },
  {
   "cell_type": "code",
   "execution_count": null,
   "id": "3f0599d1",
   "metadata": {},
   "outputs": [],
   "source": [
    "label_dict = {'Abra': 0,\n",
    " 'Aerodactyl': 1,\n",
    " 'Alakazam': 2,\n",
    " 'Alolan Sandslash': 3,\n",
    " 'Arbok': 4,\n",
    " 'Arcanine': 5,\n",
    " 'Articuno': 6,\n",
    " 'Beedrill': 7,\n",
    " 'Bellsprout': 8,\n",
    " 'Blastoise': 9,\n",
    " 'Bulbasaur': 10,\n",
    " 'Butterfree': 11,\n",
    " 'Caterpie': 12,\n",
    " 'Chansey': 13,\n",
    " 'Charizard': 14,\n",
    " 'Charmander': 15,\n",
    " 'Charmeleon': 16,\n",
    " 'Clefable': 17,\n",
    " 'Clefairy': 18,\n",
    " 'Cloyster': 19,\n",
    " 'Cubone': 20,\n",
    " 'Dewgong': 21,\n",
    " 'Diglett': 22,\n",
    " 'Ditto': 23,\n",
    " 'Dodrio': 24,\n",
    " 'Doduo': 25,\n",
    " 'Dragonair': 26,\n",
    " 'Dragonite': 27,\n",
    " 'Dratini': 28,\n",
    " 'Drowzee': 29,\n",
    " 'Dugtrio': 30,\n",
    " 'Eevee': 31,\n",
    " 'Ekans': 32,\n",
    " 'Electabuzz': 33,\n",
    " 'Electrode': 34,\n",
    " 'Exeggcute': 35,\n",
    " 'Exeggutor': 36,\n",
    " 'Farfetchd': 37,\n",
    " 'Fearow': 38,\n",
    " 'Flareon': 39,\n",
    " 'Gastly': 40,\n",
    " 'Gengar': 41,\n",
    " 'Geodude': 42,\n",
    " 'Gloom': 43,\n",
    " 'Golbat': 44,\n",
    " 'Goldeen': 45,\n",
    " 'Golduck': 46,\n",
    " 'Golem': 47,\n",
    " 'Graveler': 48,\n",
    " 'Grimer': 49,\n",
    " 'Growlithe': 50,\n",
    " 'Gyarados': 51,\n",
    " 'Haunter': 52,\n",
    " 'Hitmonchan': 53,\n",
    " 'Hitmonlee': 54,\n",
    " 'Horsea': 55,\n",
    " 'Hypno': 56,\n",
    " 'Ivysaur': 57,\n",
    " 'Jigglypuff': 58,\n",
    " 'Jolteon': 59,\n",
    " 'Jynx': 60,\n",
    " 'Kabuto': 61,\n",
    " 'Kabutops': 62,\n",
    " 'Kadabra': 63,\n",
    " 'Kakuna': 64,\n",
    " 'Kangaskhan': 65,\n",
    " 'Kingler': 66,\n",
    " 'Koffing': 67,\n",
    " 'Krabby': 68,\n",
    " 'Lapras': 69,\n",
    " 'Lickitung': 70,\n",
    " 'Machamp': 71,\n",
    " 'Machoke': 72,\n",
    " 'Machop': 73,\n",
    " 'Magikarp': 74,\n",
    " 'Magmar': 75,\n",
    " 'Magnemite': 76,\n",
    " 'Magneton': 77,\n",
    " 'Mankey': 78,\n",
    " 'Marowak': 79,\n",
    " 'Meowth': 80,\n",
    " 'Metapod': 81,\n",
    " 'Mew': 82,\n",
    " 'Mewtwo': 83,\n",
    " 'Moltres': 84,\n",
    " 'MrMime': 85,\n",
    " 'Muk': 86,\n",
    " 'Nidoking': 87,\n",
    " 'Nidoqueen': 88,\n",
    " 'Nidorina': 89,\n",
    " 'Nidorino': 90,\n",
    " 'Ninetales': 91,\n",
    " 'Oddish': 92,\n",
    " 'Omanyte': 93,\n",
    " 'Omastar': 94,\n",
    " 'Onix': 95,\n",
    " 'Paras': 96,\n",
    " 'Parasect': 97,\n",
    " 'Persian': 98,\n",
    " 'Pidgeot': 99,\n",
    " 'Pidgeotto': 100,\n",
    " 'Pidgey': 101,\n",
    " 'Pikachu': 102,\n",
    " 'Pinsir': 103,\n",
    " 'Poliwag': 104,\n",
    " 'Poliwhirl': 105,\n",
    " 'Poliwrath': 106,\n",
    " 'Ponyta': 107,\n",
    " 'Porygon': 108,\n",
    " 'Primeape': 109,\n",
    " 'Psyduck': 110,\n",
    " 'Raichu': 111,\n",
    " 'Rapidash': 112,\n",
    " 'Raticate': 113,\n",
    " 'Rattata': 114,\n",
    " 'Rhydon': 115,\n",
    " 'Rhyhorn': 116,\n",
    " 'Sandshrew': 117,\n",
    " 'Sandslash': 118,\n",
    " 'Scyther': 119,\n",
    " 'Seadra': 120,\n",
    " 'Seaking': 121,\n",
    " 'Seel': 122,\n",
    " 'Shellder': 123,\n",
    " 'Slowbro': 124,\n",
    " 'Slowpoke': 125,\n",
    " 'Snorlax': 126,\n",
    " 'Spearow': 127,\n",
    " 'Squirtle': 128,\n",
    " 'Starmie': 129,\n",
    " 'Staryu': 130,\n",
    " 'Tangela': 131,\n",
    " 'Tauros': 132,\n",
    " 'Tentacool': 133,\n",
    " 'Tentacruel': 134,\n",
    " 'Vaporeon': 135,\n",
    " 'Venomoth': 136,\n",
    " 'Venonat': 137,\n",
    " 'Venusaur': 138,\n",
    " 'Victreebel': 139,\n",
    " 'Vileplume': 140,\n",
    " 'Voltorb': 141,\n",
    " 'Vulpix': 142,\n",
    " 'Wartortle': 143,\n",
    " 'Weedle': 144,\n",
    " 'Weepinbell': 145,\n",
    " 'Weezing': 146,\n",
    " 'Wigglytuff': 147,\n",
    " 'Zapdos': 148,\n",
    " 'Zubat': 149}"
   ]
  },
  {
   "cell_type": "code",
   "execution_count": null,
   "id": "e1354d5c",
   "metadata": {},
   "outputs": [],
   "source": [
    "def prepare_image(file):\n",
    "    img_path = 'pokemon-prediction/'\n",
    "    img = image.load_img(img_path + file, target_size=(224, 224))\n",
    "    img_array = image.img_to_array(img)\n",
    "    img_array_expanded_dims = np.expand_dims(img_array, axis=0)\n",
    "    return tf.keras.applications.mobilenet.preprocess_input(img_array_expanded_dims)"
   ]
  },
  {
   "cell_type": "code",
   "execution_count": null,
   "id": "199e0b76",
   "metadata": {},
   "outputs": [],
   "source": [
    "print(os.getcwd())\n",
    "from IPython.display import Image\n",
    "Image(filename='pokemon-prediction/1.png', width=300,height=200)"
   ]
  },
  {
   "cell_type": "code",
   "execution_count": null,
   "id": "8eb9a8d5",
   "metadata": {},
   "outputs": [],
   "source": [
    "preprocessed_image = prepare_image('1.png')\n",
    "predictions = model.predict(preprocessed_image)\n",
    "out = np.argmax(predictions)\n",
    "print(list(label_dict.keys())[list(label_dict.values()).index(out)])"
   ]
  },
  {
   "cell_type": "code",
   "execution_count": null,
   "id": "26d702cc",
   "metadata": {},
   "outputs": [],
   "source": []
  },
  {
   "cell_type": "code",
   "execution_count": null,
   "id": "6c818641",
   "metadata": {},
   "outputs": [],
   "source": []
  }
 ],
 "metadata": {
  "kernelspec": {
   "display_name": "Python 3",
   "language": "python",
   "name": "python3"
  },
  "language_info": {
   "codemirror_mode": {
    "name": "ipython",
    "version": 3
   },
   "file_extension": ".py",
   "mimetype": "text/x-python",
   "name": "python",
   "nbconvert_exporter": "python",
   "pygments_lexer": "ipython3",
   "version": "3.8.8"
  }
 },
 "nbformat": 4,
 "nbformat_minor": 5
}
